{
 "cells": [
  {
   "cell_type": "markdown",
   "metadata": {
    "deletable": true,
    "editable": true
   },
   "source": [
    "# Advanced Lane Finding Project\n",
    "\n",
    "The goals / steps of this project are the following:\n",
    "\n",
    "* Compute the camera calibration matrix and distortion coefficients given a set of chessboard images.\n",
    "* Apply a distortion correction to raw images.\n",
    "* Use color transforms, gradients, etc., to create a thresholded binary image.\n",
    "* Apply a perspective transform to rectify binary image (\"birds-eye view\").\n",
    "* Detect lane pixels and fit to find the lane boundary.\n",
    "* Determine the curvature of the lane and vehicle position with respect to center.\n",
    "* Warp the detected lane boundaries back onto the original image.\n",
    "* Output visual display of the lane boundaries and numerical estimation of lane curvature and vehicle position.\n",
    "\n"
   ]
  },
  {
   "cell_type": "markdown",
   "metadata": {
    "deletable": true,
    "editable": true
   },
   "source": [
    "## Camera Calibration Using Chessboard Images"
   ]
  },
  {
   "cell_type": "markdown",
   "metadata": {
    "deletable": true,
    "editable": true
   },
   "source": [
    "### Enviroment Setup"
   ]
  },
  {
   "cell_type": "code",
   "execution_count": null,
   "metadata": {
    "collapsed": false,
    "deletable": true,
    "editable": true
   },
   "outputs": [],
   "source": [
    "import os\n",
    "import numpy as np\n",
    "import cv2\n",
    "import glob\n",
    "import matplotlib.pyplot as plt\n",
    "from collections import OrderedDict\n",
    "import math\n",
    "\n",
    "from moviepy.editor import VideoFileClip\n",
    "%matplotlib inline\n",
    "plt.rcParams['figure.figsize'] = (10, 5)\n",
    "\n",
    "# Make a list of calibration images\n",
    "CALIBRATION_IMG_PATH = r\"./camera_cal/\"\n",
    "TEST_IMG_PATH = r\"./test_images/\"\n"
   ]
  },
  {
   "cell_type": "markdown",
   "metadata": {
    "deletable": true,
    "editable": true
   },
   "source": [
    "### Binary Image Creation Functions"
   ]
  },
  {
   "cell_type": "code",
   "execution_count": null,
   "metadata": {
    "collapsed": false,
    "deletable": true,
    "editable": true
   },
   "outputs": [],
   "source": [
    "\n",
    "def cal_undistort(img, objpoints, imgpoints):\n",
    "    gray = cv2.cvtColor(img, cv2.COLOR_BGR2GRAY)\n",
    "    ret, mtx, dist, rvecs, tvecs = cv2.calibrateCamera(objpoints, imgpoints, gray.shape[::-1], None, None)\n",
    "    dst = cv2.undistort(img, mtx, dist, None, mtx)\n",
    "    return dst\n",
    "\n",
    "\n",
    "\n",
    "# Step through the list and search for chessboard corners\n",
    "def extact_obj_and_img_points(image_list):    \n",
    "    \n",
    "    # prepare object points, like (0,0,0), (1,0,0), (2,0,0) ....,(6,5,0)\n",
    "    objp = np.zeros((6*9,3), np.float32)\n",
    "    objp[:,:2] = np.mgrid[0:9,0:6].T.reshape(-1,2)\n",
    "    \n",
    "    # Arrays to store object points and image points from all the images.\n",
    "    objpoints = [] # 3d points in real world space\n",
    "    imgpoints = [] # 2d points in image plane.\n",
    "    \n",
    "    for fname in image_list:       \n",
    "        img = cv2.imread(fname)\n",
    "        #print(\"file: \", fname, \", image shape: \", img.shape) \n",
    "        img_size = (img.shape[1], img.shape[0])\n",
    "        gray = cv2.cvtColor(img,cv2.COLOR_BGR2GRAY)\n",
    "        #plt.subplot(121).imshow(gray, cmap=\"gray\")\n",
    "    \n",
    "        # Find the chessboard corners\n",
    "        ret, corners = cv2.findChessboardCorners(gray, (9,6),None)\n",
    "\n",
    "        # If found, add object points, image points\n",
    "        if ret == True:\n",
    "            objpoints.append(objp)\n",
    "            imgpoints.append(corners)\n",
    "\n",
    "            # Draw and display the corners\n",
    "            cv2.drawChessboardCorners(img, (9,6), corners, ret)\n",
    "        else:\n",
    "            print(\"no chees board corners found in: \" + fname)\n",
    "        \n",
    "    \n",
    "    return objpoints, imgpoints\n",
    "\n",
    "\n",
    "\n",
    "\n",
    "\n",
    "calibration_images = glob.glob(CALIBRATION_IMG_PATH + 'calibration*.jpg')\n",
    "\n",
    "objpoints, imgpoints = extact_obj_and_img_points(calibration_images)\n",
    "\n",
    "\n",
    "## Unit Test\n",
    "for fname in calibration_images:       \n",
    "    img = cv2.imread(fname)\n",
    "    undistorted = cal_undistort(img, objpoints, imgpoints)\n",
    "    objpoints = np.asarray(objpoints)\n",
    "    imgpoints = np.asarray(imgpoints)\n",
    "\n",
    "    f, (ax1, ax2) = plt.subplots(1, 2, figsize=(24, 9))\n",
    "    f.tight_layout()\n",
    "    ax1.imshow(img)\n",
    "    ax1.set_title('Original ' + fname.split(os.sep)[-1], fontsize=20)\n",
    "    ax2.imshow(undistorted)\n",
    "    ax2.set_title('Undistorted Image', fontsize=20)\n",
    "    plt.subplots_adjust(left=0., right=1, top=0.9, bottom=0.)\n",
    "\n",
    "\n",
    "\n",
    "\n",
    "\n",
    "\n"
   ]
  },
  {
   "cell_type": "code",
   "execution_count": null,
   "metadata": {
    "collapsed": false,
    "deletable": true,
    "editable": true
   },
   "outputs": [],
   "source": [
    "def abs_sobel_thresh(gray, orient='x', sobel_kernel=3, thresh=(0, 255)):\n",
    "    # Calculate directional gradient\n",
    "    # Apply threshold\n",
    "    # Convert to grayscale\n",
    "    #gray = cv2.cvtColor(img, cv2.COLOR_RGB2GRAY)\n",
    "    # Apply x or y gradient with the OpenCV Sobel() function\n",
    "    # and take the absolute value\n",
    "    if orient == 'x':\n",
    "        abs_sobel = np.absolute(cv2.Sobel(gray, cv2.CV_64F, 1, 0))\n",
    "    if orient == 'y':\n",
    "        abs_sobel = np.absolute(cv2.Sobel(gray, cv2.CV_64F, 0, 1))\n",
    "    # Rescale back to 8 bit integer\n",
    "    scaled_sobel = np.uint8(255*abs_sobel/np.max(abs_sobel))\n",
    "    # Create a copy and apply the threshold\n",
    "    binary_output = np.zeros_like(scaled_sobel)\n",
    "    # Here I'm using inclusive (>=, <=) thresholds, but exclusive is ok too\n",
    "    binary_output[(scaled_sobel >= thresh[0]) & (scaled_sobel <= thresh[1])] = 1\n",
    "\n",
    "    # Return the result\n",
    "    return binary_output\n",
    "\n",
    "\n",
    "\n",
    "def mag_thresh(gray, sobel_kernel=3, mag_thresh=(0, 255)):\n",
    "    # Calculate gradient magnitude\n",
    "    # Apply threshold\n",
    "    # Convert to grayscale\n",
    "    #gray = cv2.cvtColor(img, cv2.COLOR_RGB2GRAY)\n",
    "    # Take both Sobel x and y gradients\n",
    "    sobelx = cv2.Sobel(gray, cv2.CV_64F, 1, 0, ksize=sobel_kernel)\n",
    "    sobely = cv2.Sobel(gray, cv2.CV_64F, 0, 1, ksize=sobel_kernel)\n",
    "    # Calculate the gradient magnitude\n",
    "    gradmag = np.sqrt(sobelx**2 + sobely**2)\n",
    "    # Rescale to 8 bit\n",
    "    scale_factor = np.max(gradmag)/255 \n",
    "    gradmag = (gradmag/scale_factor).astype(np.uint8) \n",
    "    # Create a binary image of ones where threshold is met, zeros otherwise\n",
    "    binary_output = np.zeros_like(gradmag)\n",
    "    binary_output[(gradmag >= mag_thresh[0]) & (gradmag <= mag_thresh[1])] = 1\n",
    "    return binary_output\n",
    "\n",
    "def dir_threshold(gray, sobel_kernel=3, thresh=(0, np.pi/2)):\n",
    "    # Calculate gradient direction\n",
    "    # Apply threshold\n",
    "    # Grayscale\n",
    "    #gray = cv2.cvtColor(img, cv2.COLOR_RGB2GRAY)\n",
    "    # Calculate the x and y gradients\n",
    "    \n",
    "    sobelx = cv2.Sobel(gray, cv2.CV_64F, 1, 0, ksize=sobel_kernel)\n",
    "    sobely = cv2.Sobel(gray, cv2.CV_64F, 0, 1, ksize=sobel_kernel)\n",
    "    # Take the absolute value of the gradient direction, \n",
    "    # apply a threshold, and create a binary image result\n",
    "    absgraddir = np.arctan2(np.absolute(sobely), np.absolute(sobelx))\n",
    "    binary_output =  np.zeros_like(absgraddir)\n",
    "    binary_output[(absgraddir >= thresh[0]) & (absgraddir <= thresh[1])] = 1\n",
    "\n",
    "    # Return the binary image\n",
    "    return binary_output\n",
    "\n",
    "\n",
    "def abs_threshold(gray, thresh=(20, 255)):\n",
    "    binary = np.zeros_like(gray)\n",
    "    binary[(gray > thresh[0]) & (gray < thresh[1])] = 1\n",
    "    return binary\n"
   ]
  },
  {
   "cell_type": "markdown",
   "metadata": {
    "deletable": true,
    "editable": true
   },
   "source": [
    "### Thresholded Binary Image Creation"
   ]
  },
  {
   "cell_type": "code",
   "execution_count": null,
   "metadata": {
    "collapsed": false,
    "deletable": true,
    "editable": true
   },
   "outputs": [],
   "source": [
    "def lane_line_binary_image(image):\n",
    "    DEBUG = False\n",
    "     \n",
    "    image_dict =  OrderedDict()\n",
    "    \n",
    "    image_raw = image\n",
    "    image_dict[\"raw\"] = image_raw\n",
    "    image_gray = cv2.cvtColor(image_raw, cv2.COLOR_BGR2GRAY)\n",
    "    image_dict[\"grayscale\"] = image_gray\n",
    "    image_rgb = cv2.cvtColor(image_raw, cv2.COLOR_BGR2RGB)     \n",
    "    image_hls = cv2.cvtColor(image_raw, cv2.COLOR_BGR2HLS).astype(np.float)\n",
    "    \n",
    "       \n",
    "    image_hls_s = image_hls[:,:,2]\n",
    "    image_dict[\"S of HLS\"] = image_hls_s\n",
    "    mag_threshold_hls_s = mag_thresh(image_hls_s, sobel_kernel=3, mag_thresh=(60, 255))\n",
    "    image_dict[\"S of HLS mag (60, 255)\"] = mag_threshold_hls_s\n",
    "    grad_x_hls_s =  abs_sobel_thresh(image_hls_s, orient='x', sobel_kernel=5, thresh=(20, 255))\n",
    "    image_dict[\"grad X of S from HLS (20, 255)\"] = grad_x_hls_s\n",
    "    \n",
    "    image_hls_l = image_hls[:,:,1]\n",
    "    image_dict[\"L of HLS\"] = image_hls_l\n",
    "    mag_hls_l =  abs_threshold(image_hls_l, thresh=(35, 255))\n",
    "    image_dict[\"mag of L from HLS (35, 255)\"] = mag_hls_l\n",
    "\n",
    "\n",
    "    \n",
    "\n",
    "    color_binary = np.dstack(( np.zeros_like(grad_x_hls_s), grad_x_hls_s, mag_hls_l))\n",
    "\n",
    "    combined_binary = np.zeros_like(mag_hls_l)\n",
    "    combined_binary[(mag_hls_l == 1) & (grad_x_hls_s == 1)] = 1\n",
    "    image_dict[\"combined binary\"] = combined_binary\n",
    "\n",
    "    if DEBUG:\n",
    "        f, axes = plt.subplots(math.ceil(len(image_dict.keys())/2), 2, figsize=(24, 20))\n",
    "        f.suptitle(image_path.split(\"/\")[-1].split(\"\\\\\")[-1], fontsize=20)\n",
    "        \n",
    "        axes = axes.ravel()\n",
    "        \n",
    "        i = 0\n",
    "        for key in image_dict.keys():\n",
    "            axes[i].imshow(image_dict[key], cmap=\"gray\")\n",
    "            axes[i].set_title(key)\n",
    "            i += 1\n",
    "            \n",
    "        \n",
    "        plt.show()    \n",
    "        \n",
    "\n",
    "\n",
    "    return combined_binary\n",
    " \n",
    "      \n",
    "\n",
    "        \n",
    "        \n",
    "        \n",
    "\n",
    "image_path_list = glob.glob(TEST_IMG_PATH + '*.jpg')\n",
    "\n",
    "for image_path in image_path_list:\n",
    "    image = cv2.imread(image_path)\n",
    "    image = lane_line_binary_image(image) \n",
    "    plt.imshow(image, cmap=\"gray\")\n",
    "    plt.show()"
   ]
  },
  {
   "cell_type": "markdown",
   "metadata": {
    "collapsed": true,
    "deletable": true,
    "editable": true
   },
   "source": [
    "## Perspective Transform"
   ]
  },
  {
   "cell_type": "code",
   "execution_count": null,
   "metadata": {
    "collapsed": false,
    "deletable": true,
    "editable": true
   },
   "outputs": [],
   "source": [
    "def lane_line_perspective_transform(image, src = None, dst = None):\n",
    "    #print(image.shape)\n",
    "     \n",
    "    raw_image =  np.copy(image) \n",
    "    \n",
    "    for pt in np.squeeze(src):\n",
    "        cv2.circle(image, tuple(pt), 15, (0, 255, 0), -1)\n",
    "        \n",
    "    for pt in np.squeeze(dst):\n",
    "        cv2.circle(image, tuple(pt), 10, (0, 0, 255), -1)    \n",
    "    #plt.imshow(image, cmap='gray')\n",
    "    #plt.show()\n",
    "    \n",
    "    M = cv2.getPerspectiveTransform(src, dst)\n",
    "    warped = cv2.warpPerspective(raw_image, M, tuple(reversed(image.shape)), flags=cv2.INTER_LINEAR)\n",
    "    #plt.imshow(warped, cmap='gray')\n",
    "    #plt.show()\n",
    "    return warped\n",
    "    \n",
    "\n",
    "\n",
    "#image = cv2.cvtColor(cv2.imread(image_path_list[0]), cv2.COLOR_BGR2RGB)\n",
    "\n",
    "SRC = np.float32([\n",
    "    [590, 450],\n",
    "    [700, 450],\n",
    "    [380, 600],\n",
    "    [900, 580]\n",
    "\n",
    "])\n",
    "\n",
    "DST = np.float32([\n",
    "    [380, 100],\n",
    "    [900, 100],\n",
    "    [380, 600],\n",
    "    [900, 580]\n",
    "])\n",
    "\n",
    "\n",
    "image_path_list = glob.glob(TEST_IMG_PATH + '*.jpg')\n",
    "\n",
    "for image_path in image_path_list:\n",
    "    image = cv2.imread(image_path)\n",
    "    image = lane_line_binary_image(image) \n",
    "    image = lane_line_perspective_transform(image, SRC, DST)\n",
    "    #plt.imshow(image, cmap=\"gray\")\n",
    "    #plt.show()"
   ]
  },
  {
   "cell_type": "markdown",
   "metadata": {
    "collapsed": true,
    "deletable": true,
    "editable": true
   },
   "source": [
    "### Detect lane pixels and fit to find the lane boundary"
   ]
  },
  {
   "cell_type": "code",
   "execution_count": null,
   "metadata": {
    "collapsed": false,
    "deletable": true,
    "editable": true
   },
   "outputs": [],
   "source": [
    "def fit_lane_line(binary_warped):\n",
    "    \n",
    "    histogram = np.sum(binary_warped[binary_warped.shape[0]/2:,:], axis=0)\n",
    "    out_img = np.dstack((binary_warped, binary_warped, binary_warped))*255\n",
    "    \n",
    "    midpoint = np.int(histogram.shape[0]/2)\n",
    "    leftx_base = np.argmax(histogram[:midpoint])\n",
    "    rightx_base = np.argmax(histogram[midpoint:]) + midpoint\n",
    "    print(\"left base:\" + str(leftx_base) + \", right base: \" + str(rightx_base))\n",
    "    \n",
    "    nwindows = 9\n",
    "    \n",
    "    return out_img.astype(np.float)\n",
    "\n",
    "\n",
    "image_path_list = glob.glob(TEST_IMG_PATH + '*.jpg')\n",
    "\n",
    "for image_path in [image_path_list[5]]:\n",
    "    image = cv2.imread(image_path)\n",
    "    image = lane_line_binary_image(image) \n",
    "    image = lane_line_perspective_transform(image, SRC, DST)\n",
    "    fit_lane_line(image)\n",
    "    plt.show()\n",
    "\n",
    "    \n",
    "    "
   ]
  },
  {
   "cell_type": "markdown",
   "metadata": {
    "collapsed": true,
    "deletable": true,
    "editable": true
   },
   "source": [
    "## image process pipeline "
   ]
  },
  {
   "cell_type": "code",
   "execution_count": null,
   "metadata": {
    "collapsed": false,
    "deletable": true,
    "editable": true
   },
   "outputs": [],
   "source": [
    "def image_process_pipeline(image):\n",
    "    SRC = np.float32([\n",
    "        [590, 450],\n",
    "        [700, 450],\n",
    "        [380, 600],\n",
    "        [900, 580]\n",
    "\n",
    "    ])\n",
    "\n",
    "    DST = np.float32([\n",
    "        [380, 100],\n",
    "        [900, 100],\n",
    "        [380, 600],\n",
    "        [900, 580]\n",
    "    ])\n",
    "\n",
    "\n",
    "    image = cal_undistort(image, objpoints, imgpoints)\n",
    "    image = lane_line_binary_image(image)\n",
    "    M = cv2.getPerspectiveTransform(SRC, DST)\n",
    "    image = cv2.warpPerspective(image, M, tuple(reversed(image.shape)), flags=cv2.INTER_LINEAR)\n",
    "    image = fit_lane_line(image)\n",
    "    return image\n",
    "    \n",
    "image_path_list = glob.glob(TEST_IMG_PATH + '*.jpg')\n",
    "\n",
    "for image_path in [image_path_list[5]]:\n",
    "    image = cv2.imread(image_path)\n",
    "    image = image_process_pipeline(image)\n",
    "    plt.imshow(image)\n",
    "    plt.show()\n",
    "    \n",
    "    "
   ]
  },
  {
   "cell_type": "code",
   "execution_count": null,
   "metadata": {
    "collapsed": true,
    "deletable": true,
    "editable": true
   },
   "outputs": [],
   "source": []
  }
 ],
 "metadata": {
  "anaconda-cloud": {},
  "kernelspec": {
   "display_name": "Python 3",
   "language": "python",
   "name": "python3"
  },
  "language_info": {
   "codemirror_mode": {
    "name": "ipython",
    "version": 3
   },
   "file_extension": ".py",
   "mimetype": "text/x-python",
   "name": "python",
   "nbconvert_exporter": "python",
   "pygments_lexer": "ipython3",
   "version": "3.5.2"
  }
 },
 "nbformat": 4,
 "nbformat_minor": 1
}
